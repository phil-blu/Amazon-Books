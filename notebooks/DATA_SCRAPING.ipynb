{
 "cells": [
  {
   "cell_type": "markdown",
   "metadata": {},
   "source": [
    "# DATA SCRAPING"
   ]
  },
  {
   "cell_type": "markdown",
   "metadata": {},
   "source": [
    "*Disclaimer:* For the purpose of this project, only the books with the highest star ratings for the first 3 pages of each of the major book categories on Amazon have been accounted for.\n",
    "This data was obtained on 2020-10-12"
   ]
  },
  {
   "cell_type": "code",
   "execution_count": 1,
   "metadata": {},
   "outputs": [],
   "source": [
    "#Import necesary libraries\n",
    "import pandas as pd\n",
    "from random import randint\n",
    "from time import sleep\n",
    "from requests import get\n",
    "from selenium import webdriver\n",
    "from bs4 import BeautifulSoup"
   ]
  },
  {
   "cell_type": "code",
   "execution_count": 2,
   "metadata": {},
   "outputs": [],
   "source": [
    "#This variable holds the url for the BOOK section on Amazon\n",
    "books_url = 'https://www.amazon.com/s?i=stripbooks&bbn=283155&rh=n%3A283155&s=review-count-rank&dc&Adv-Srch-Books-Submit.x=30&Adv-Srch-Books-Submit.y=21&qid=1602339864&unfiltered=1&ref=sr_ex_n_1'"
   ]
  },
  {
   "cell_type": "code",
   "execution_count": 3,
   "metadata": {},
   "outputs": [],
   "source": [
    "#An instance of the selenium webdriver was created and named as -driver-\n",
    "#the driver path must be included to enable execution\n",
    "driver = webdriver.Firefox(\"C:/Users/mine/Hamoye Internship/chromedriver_win32\")\n",
    "driver.get(books_url)\n",
    "sleep(randint(4,13))\n",
    "soup = BeautifulSoup(driver.page_source, \"lxml\")"
   ]
  },
  {
   "cell_type": "code",
   "execution_count": null,
   "metadata": {},
   "outputs": [],
   "source": [
    "#Basically asks the webdriver to get the -href- attribute for each link (a tag) on the page\n",
    "category_urls = [item.get(\"href\") for item in soup.find_all(\"a\")]\n",
    "#category_urls"
   ]
  },
  {
   "cell_type": "code",
   "execution_count": 5,
   "metadata": {},
   "outputs": [],
   "source": [
    "urls = list(dict.fromkeys(category_urls))\n",
    "urls = list(filter(None, urls))"
   ]
  },
  {
   "cell_type": "code",
   "execution_count": 6,
   "metadata": {},
   "outputs": [],
   "source": [
    "urls = [x for x in urls if x.startswith(\"/s?i=stripbooks\")]\n",
    "urls = [x for x in urls if not x.endswith(\"browse-bin_1\")]"
   ]
  },
  {
   "cell_type": "code",
   "execution_count": 7,
   "metadata": {},
   "outputs": [],
   "source": [
    "string = 'https://www.amazon.com/'\n",
    "final_list=[string + s for s in urls]"
   ]
  },
  {
   "cell_type": "code",
   "execution_count": 8,
   "metadata": {},
   "outputs": [],
   "source": [
    "final_urls =final_list[:32]"
   ]
  },
  {
   "cell_type": "code",
   "execution_count": 10,
   "metadata": {},
   "outputs": [],
   "source": [
    "page_list = []\n",
    "for url in final_urls:\n",
    "    driver = webdriver.Chrome(\"C:/Users\\mine/Hamoye Internship/chromedriver_win32/chromedriver.exe\")\n",
    "    driver.get(url)  \n",
    "    sleep(randint(5,15))\n",
    "    soup = BeautifulSoup(driver.page_source, 'html.parser')\n",
    "    page_urls = [item.get(\"href\") for item in soup.find_all(\"a\")]\n",
    "\n",
    "   #Remove duplicates and none values\n",
    "    urls_final = list(dict.fromkeys(page_urls))\n",
    "    urls_final = list(filter(None, urls_final)) \n",
    "\n",
    "\n",
    "#Remove if not starting with pwa, remove if ending with display=reviews\n",
    "    url_final = [x for x in urls_final if x.startswith('/s?i=stripbooks')]\n",
    "    url_final = [x for x in url_final if not x.endswith('hi_1')]\n",
    "    prefixes =  ('sr_pg_1', 'sr_pg_2','sr_pg_3')\n",
    "    url_final = [x for x in url_final if x.endswith(prefixes)]\n",
    "   \n",
    "    string = 'https://www.amazon.com/'\n",
    "    final_list=[string + s for s in url_final]\n",
    "    final_pages =final_list[0:3]\n",
    "    page_list.append(final_pages)"
   ]
  },
  {
   "cell_type": "code",
   "execution_count": 11,
   "metadata": {},
   "outputs": [],
   "source": [
    "#Links to all pages are stored here\n",
    "flat_list = []\n",
    "for sublist in page_list:\n",
    "    for item in sublist:\n",
    "        flat_list.append(item)"
   ]
  },
  {
   "cell_type": "code",
   "execution_count": 25,
   "metadata": {
    "collapsed": true
   },
   "outputs": [
    {
     "ename": "NameError",
     "evalue": "name 'flat_list' is not defined",
     "output_type": "error",
     "traceback": [
      "\u001b[1;31m---------------------------------------------------------------------------\u001b[0m",
      "\u001b[1;31mNameError\u001b[0m                                 Traceback (most recent call last)",
      "\u001b[1;32m<ipython-input-25-129c666d521b>\u001b[0m in \u001b[0;36m<module>\u001b[1;34m\u001b[0m\n\u001b[0;32m      1\u001b[0m \u001b[0mflat_list1\u001b[0m \u001b[1;33m=\u001b[0m \u001b[1;33m[\u001b[0m\u001b[1;33m]\u001b[0m\u001b[1;33m\u001b[0m\u001b[1;33m\u001b[0m\u001b[0m\n\u001b[1;32m----> 2\u001b[1;33m \u001b[1;32mfor\u001b[0m \u001b[0mflat_list1\u001b[0m \u001b[1;32min\u001b[0m \u001b[0mflat_list\u001b[0m\u001b[1;33m:\u001b[0m\u001b[1;33m\u001b[0m\u001b[1;33m\u001b[0m\u001b[0m\n\u001b[0m\u001b[0;32m      3\u001b[0m     \u001b[0ml\u001b[0m \u001b[1;33m=\u001b[0m \u001b[1;33m[\u001b[0m\u001b[0mx\u001b[0m \u001b[1;32mfor\u001b[0m \u001b[0mx\u001b[0m \u001b[1;32min\u001b[0m \u001b[0murls\u001b[0m \u001b[1;32mif\u001b[0m \u001b[0mx\u001b[0m\u001b[1;33m.\u001b[0m\u001b[0mendswith\u001b[0m\u001b[1;33m(\u001b[0m\u001b[1;34m\"browse-bin_1\"\u001b[0m\u001b[1;33m)\u001b[0m\u001b[1;33m]\u001b[0m\u001b[1;33m\u001b[0m\u001b[1;33m\u001b[0m\u001b[0m\n\u001b[0;32m      4\u001b[0m     \u001b[0mflat_list1\u001b[0m\u001b[1;33m.\u001b[0m\u001b[0mappend\u001b[0m\u001b[1;33m(\u001b[0m\u001b[0ml\u001b[0m\u001b[1;33m)\u001b[0m\u001b[1;33m\u001b[0m\u001b[1;33m\u001b[0m\u001b[0m\n",
      "\u001b[1;31mNameError\u001b[0m: name 'flat_list' is not defined"
     ]
    }
   ],
   "source": [
    "#Links to all the first pages of each category are stored here\n",
    "flat_list1 = []\n",
    "for flat_list1 in flat_list:\n",
    "    l = [x for x in urls if x.endswith(\"sr_pg_1\")]\n",
    "    flat_list1.append(l)"
   ]
  },
  {
   "cell_type": "code",
   "execution_count": null,
   "metadata": {},
   "outputs": [],
   "source": [
    "#Links to all the second pages of each category are stored here\n",
    "flat_list2 = []\n",
    "for flat_list2 in flat_list:\n",
    "    l = [x for x in urls if x.endswith(\"sr_pg_2\")]\n",
    "    flat_list1.append(l)"
   ]
  },
  {
   "cell_type": "code",
   "execution_count": null,
   "metadata": {},
   "outputs": [],
   "source": [
    "#Links to all the third pages of each category are stored here\n",
    "flat_list3 = []\n",
    "for flat_list1 in flat_list:\n",
    "    l = [x for x in urls if x.endswith(\"sr_pg_13\")]\n",
    "    flat_list3.append(l)"
   ]
  },
  {
   "cell_type": "code",
   "execution_count": 10,
   "metadata": {
    "collapsed": true
   },
   "outputs": [
    {
     "name": "stdout",
     "output_type": "stream",
     "text": [
      "https://www.amazon.com//s?i=stripbooks&bbn=1000&rh=n%3A283155%2Cn%3A1&s=review-count-rank&dc&Adv-Srch-Books-Submit.x=30&Adv-Srch-Books-Submit.y=21&qid=1602369426&rnid=1000&unfiltered=1&ref=sr_pg_1\n",
      "https://www.amazon.com//s?i=stripbooks&bbn=1000&rh=n%3A283155%2Cn%3A2&s=review-count-rank&dc&Adv-Srch-Books-Submit.x=30&Adv-Srch-Books-Submit.y=21&qid=1602369449&rnid=1000&unfiltered=1&ref=sr_pg_1\n",
      "https://www.amazon.com//s?i=stripbooks&bbn=1000&rh=n%3A283155%2Cn%3A3&s=review-count-rank&dc&Adv-Srch-Books-Submit.x=30&Adv-Srch-Books-Submit.y=21&qid=1602369478&rnid=1000&unfiltered=1&ref=sr_pg_1\n",
      "https://www.amazon.com//s?i=stripbooks&bbn=1000&rh=n%3A283155%2Cn%3A3248857011&s=review-count-rank&dc&Adv-Srch-Books-Submit.x=30&Adv-Srch-Books-Submit.y=21&qid=1602369510&rnid=1000&unfiltered=1&ref=sr_pg_1\n",
      "https://www.amazon.com//s?i=stripbooks&bbn=1000&rh=n%3A283155%2Cn%3A4&s=review-count-rank&dc&Adv-Srch-Books-Submit.x=30&Adv-Srch-Books-Submit.y=21&qid=1602369548&rnid=1000&unfiltered=1&ref=sr_pg_1\n",
      "https://www.amazon.com//s?i=stripbooks&bbn=1000&rh=n%3A283155%2Cn%3A12290&s=review-count-rank&dc&Adv-Srch-Books-Submit.x=30&Adv-Srch-Books-Submit.y=21&qid=1602369585&rnid=1000&unfiltered=1&ref=sr_pg_1\n",
      "https://www.amazon.com//s?i=stripbooks&bbn=1000&rh=n%3A283155%2Cn%3A4366&s=review-count-rank&dc&Adv-Srch-Books-Submit.x=30&Adv-Srch-Books-Submit.y=21&qid=1602369669&rnid=1000&unfiltered=1&ref=sr_pg_1\n",
      "https://www.amazon.com//s?i=stripbooks&bbn=1000&rh=n%3A283155%2Cn%3A5&s=review-count-rank&dc&Adv-Srch-Books-Submit.x=30&Adv-Srch-Books-Submit.y=21&qid=1602369693&rnid=1000&unfiltered=1&ref=sr_pg_1\n",
      "https://www.amazon.com//s?i=stripbooks&bbn=1000&rh=n%3A283155%2Cn%3A6&s=review-count-rank&dc&Adv-Srch-Books-Submit.x=30&Adv-Srch-Books-Submit.y=21&qid=1602369721&rnid=1000&unfiltered=1&ref=sr_pg_1\n",
      "https://www.amazon.com//s?i=stripbooks&bbn=1000&rh=n%3A283155%2Cn%3A48&s=review-count-rank&dc&Adv-Srch-Books-Submit.x=30&Adv-Srch-Books-Submit.y=21&qid=1602369774&rnid=1000&unfiltered=1&ref=sr_pg_1\n",
      "https://www.amazon.com//s?i=stripbooks&bbn=1000&rh=n%3A283155%2Cn%3A8975347011&s=review-count-rank&dc&Adv-Srch-Books-Submit.x=30&Adv-Srch-Books-Submit.y=21&qid=1602369806&rnid=1000&unfiltered=1&ref=sr_pg_1\n",
      "https://www.amazon.com//s?i=stripbooks&bbn=1000&rh=n%3A283155%2Cn%3A173507&s=review-count-rank&dc&Adv-Srch-Books-Submit.x=30&Adv-Srch-Books-Submit.y=21&qid=1602369831&rnid=1000&unfiltered=1&ref=sr_pg_1\n",
      "https://www.amazon.com//s?i=stripbooks&bbn=1000&rh=n%3A283155%2Cn%3A10&s=review-count-rank&dc&Adv-Srch-Books-Submit.x=30&Adv-Srch-Books-Submit.y=21&qid=1602369859&rnid=1000&unfiltered=1&ref=sr_pg_1\n",
      "https://www.amazon.com//s?i=stripbooks&bbn=1000&rh=n%3A283155%2Cn%3A9&s=review-count-rank&dc&Adv-Srch-Books-Submit.x=30&Adv-Srch-Books-Submit.y=21&qid=1602369968&rnid=1000&unfiltered=1&ref=sr_pg_1\n",
      "https://www.amazon.com//s?i=stripbooks&bbn=1000&rh=n%3A283155%2Cn%3A86&s=review-count-rank&dc&Adv-Srch-Books-Submit.x=30&Adv-Srch-Books-Submit.y=21&qid=1602370014&rnid=1000&unfiltered=1&ref=sr_pg_1\n",
      "https://www.amazon.com//s?i=stripbooks&bbn=1000&rh=n%3A283155%2Cn%3A10777&s=review-count-rank&dc&Adv-Srch-Books-Submit.x=30&Adv-Srch-Books-Submit.y=21&qid=1602370043&rnid=1000&unfiltered=1&ref=sr_pg_1\n",
      "https://www.amazon.com//s?i=stripbooks&bbn=1000&rh=n%3A283155%2Cn%3A301889&s=review-count-rank&dc&Adv-Srch-Books-Submit.x=30&Adv-Srch-Books-Submit.y=21&qid=1602370083&rnid=1000&unfiltered=1&ref=sr_pg_1\n",
      "https://www.amazon.com//s?i=stripbooks&bbn=1000&rh=n%3A283155%2Cn%3A17&s=review-count-rank&dc&Adv-Srch-Books-Submit.x=30&Adv-Srch-Books-Submit.y=21&qid=1602370174&rnid=1000&unfiltered=1&ref=sr_pg_1\n",
      "https://www.amazon.com//s?i=stripbooks&bbn=1000&rh=n%3A283155%2Cn%3A173514&s=review-count-rank&dc&Adv-Srch-Books-Submit.x=30&Adv-Srch-Books-Submit.y=21&qid=1602370224&rnid=1000&unfiltered=1&ref=sr_pg_1\n",
      "https://www.amazon.com//s?i=stripbooks&bbn=1000&rh=n%3A283155%2Cn%3A18&s=review-count-rank&dc&Adv-Srch-Books-Submit.x=30&Adv-Srch-Books-Submit.y=21&qid=1602370307&rnid=1000&unfiltered=1&ref=sr_pg_1\n",
      "https://www.amazon.com//s?i=stripbooks&bbn=1000&rh=n%3A283155%2Cn%3A20&s=review-count-rank&dc&Adv-Srch-Books-Submit.x=30&Adv-Srch-Books-Submit.y=21&qid=1602370329&rnid=1000&unfiltered=1&ref=sr_pg_1\n",
      "https://www.amazon.com//s?i=stripbooks&bbn=1000&rh=n%3A283155%2Cn%3A3377866011&s=review-count-rank&dc&Adv-Srch-Books-Submit.x=30&Adv-Srch-Books-Submit.y=21&qid=1602370369&rnid=1000&unfiltered=1&ref=sr_pg_1\n",
      "https://www.amazon.com//s?i=stripbooks&bbn=1000&rh=n%3A283155%2Cn%3A21&s=review-count-rank&dc&Adv-Srch-Books-Submit.x=30&Adv-Srch-Books-Submit.y=21&qid=1602370392&rnid=1000&unfiltered=1&ref=sr_pg_1\n",
      "https://www.amazon.com//s?i=stripbooks&bbn=1000&rh=n%3A283155%2Cn%3A22&s=review-count-rank&dc&Adv-Srch-Books-Submit.x=30&Adv-Srch-Books-Submit.y=21&qid=1602370419&rnid=1000&unfiltered=1&ref=sr_pg_1\n",
      "https://www.amazon.com//s?i=stripbooks&bbn=1000&rh=n%3A283155%2Cn%3A23&s=review-count-rank&dc&Adv-Srch-Books-Submit.x=30&Adv-Srch-Books-Submit.y=21&qid=1602370461&rnid=1000&unfiltered=1&ref=sr_pg_1\n",
      "https://www.amazon.com//s?i=stripbooks&bbn=1000&rh=n%3A283155%2Cn%3A75&s=review-count-rank&dc&Adv-Srch-Books-Submit.x=30&Adv-Srch-Books-Submit.y=21&qid=1602370490&rnid=1000&unfiltered=1&ref=sr_pg_1\n",
      "https://www.amazon.com//s?i=stripbooks&bbn=1000&rh=n%3A283155%2Cn%3A25&s=review-count-rank&dc&Adv-Srch-Books-Submit.x=30&Adv-Srch-Books-Submit.y=21&qid=1602370527&rnid=1000&unfiltered=1&ref=sr_pg_1\n",
      "https://www.amazon.com//s?i=stripbooks&bbn=1000&rh=n%3A283155%2Cn%3A4736&s=review-count-rank&dc&Adv-Srch-Books-Submit.x=30&Adv-Srch-Books-Submit.y=21&qid=1602370556&rnid=1000&unfiltered=1&ref=sr_pg_1\n",
      "https://www.amazon.com//s?i=stripbooks&bbn=1000&rh=n%3A283155%2Cn%3A26&s=review-count-rank&dc&Adv-Srch-Books-Submit.x=30&Adv-Srch-Books-Submit.y=21&qid=1602370632&rnid=1000&unfiltered=1&ref=sr_pg_1\n",
      "https://www.amazon.com//s?i=stripbooks&bbn=1000&rh=n%3A283155%2Cn%3A28&s=review-count-rank&dc&Adv-Srch-Books-Submit.x=30&Adv-Srch-Books-Submit.y=21&qid=1602370659&rnid=1000&unfiltered=1&ref=sr_pg_1\n",
      "https://www.amazon.com//s?i=stripbooks&bbn=1000&rh=n%3A283155%2Cn%3A5267710011&s=review-count-rank&dc&Adv-Srch-Books-Submit.x=30&Adv-Srch-Books-Submit.y=21&qid=1602370689&rnid=1000&unfiltered=1&ref=sr_pg_1\n",
      "https://www.amazon.com//s?i=stripbooks&bbn=1000&rh=n%3A283155%2Cn%3A27&s=review-count-rank&dc&Adv-Srch-Books-Submit.x=30&Adv-Srch-Books-Submit.y=21&qid=1602370728&rnid=1000&unfiltered=1&ref=sr_pg_1\n"
     ]
    }
   ],
   "source": [
    "titles1 = []\n",
    "authors1 = []\n",
    "dates1 = []\n",
    "stars1 = []\n",
    "ratings1 = []\n",
    "prices1 = []\n",
    "categs1 = []\n",
    "\n",
    "#for category in categories:\n",
    "for url in flat_list: \n",
    "    \n",
    "    driver = webdriver.Chrome(\"C:/Users\\mine/Hamoye Internship/chromedriver_win32/chromedriver.exe\")\n",
    "    driver.get(url)  \n",
    "    sleep(randint(2,10))\n",
    "    from bs4 import BeautifulSoup\n",
    "    soup = BeautifulSoup(driver.page_source, 'html.parser')\n",
    "    containers = soup.find_all(\"div\", class_ = \"sg-col-20-of-24 s-result-item s-asin sg-col-0-of-12 sg-col-28-of-32 sg-col-16-of-20 sg-col sg-col-32-of-36 sg-col-12-of-16 sg-col-24-of-28\")\n",
    "    \n",
    "    \n",
    "    for container in containers:\n",
    "       #TITLES:\n",
    "        if container.find(\"span\", class_=\"a-size-medium a-color-base a-text-normal\") is not None:\n",
    "            title = container.find(\"span\", class_=\"a-size-medium a-color-base a-text-normal\").text\n",
    "            titles1.append(title)\n",
    "        else:  titles1.append(\"-\")\n",
    "\n",
    "        #AUTHORS:    \n",
    "        if container.find(\"div\", class_=\"a-row a-size-base a-color-secondary\").find(\"a\", \"a-size-base a-link-normal\") is not None:\n",
    "            author = container.find(\"div\", class_=\"a-row a-size-base a-color-secondary\").find(\"a\", \"a-size-base a-link-normal\").text.strip()\n",
    "            authors1.append(author)\n",
    "        elif container.find(\"div\", class_=\"a-row a-size-base a-color-secondary\").find(\"a\", \"a-size-base a-link-normal\") is None:\n",
    "            authors1.append(container.find(\"div\", class_=\"a-row a-size-base a-color-secondary\").find_all(\"span\", class_=\"a-size-base\")[1].text)\n",
    "        elif container.find(\"div\", class_=\"a-row a-size-base a-color-secondary\").find(\"a\", \"a-size-base a-link-normal\") is None:\n",
    "            authors1.append(container.find(\"div\", class_=\"a-row a-size-base a-color-secondary\").find_all(\"span\", class_=\"a-size-base\")[2].text)\n",
    "        elif container.find(\"div\", class_=\"a-row a-size-base a-color-secondary\").find(\"a\", \"a-size-base a-link-normal\") is None:\n",
    "            authors1.append(container.find(\"div\", class_=\"a-row a-size-base a-color-secondary\").find_all(\"span\", class_=\"a-size-base\")[3].text)\n",
    "        else: authors1.append(\"-\")\n",
    "\n",
    "        #DATES:   \n",
    "        if container.find(\"span\", \"a-size-base a-color-secondary a-text-normal\") is not None:\n",
    "            date = container.find(\"span\", \"a-size-base a-color-secondary a-text-normal\").text\n",
    "            dates1.append(date)\n",
    "        else: dates1.append(\"-\")\n",
    "\n",
    "        #STAR REVIEW:\n",
    "        if container.find(\"i\", \"a-icon a-icon-star-small a-star-small-5 aok-align-bottom\") is not None:\n",
    "            star = container.find(\"i\", \"a-icon a-icon-star-small a-star-small-5 aok-align-bottom\").text\n",
    "            stars1.append(star)\n",
    "        elif container.find(\"i\", \"a-icon a-icon-star-small a-star-small-4-5 aok-align-bottom\") is not None:\n",
    "            star = container.find(\"i\", \"a-icon a-icon-star-small a-star-small-4-5 aok-align-bottom\").text\n",
    "            stars1.append(star)\n",
    "        else: stars1.append(\"-\")\n",
    "\n",
    "        #NUMBER OF STAR REVIEWS:\n",
    "        if container.find(\"div\", class_=\"a-row a-size-small\") is not None:\n",
    "            rating = int(container.find(\"div\", class_=\"a-row a-size-small\").find(\"span\", class_=\"a-size-base\").text.replace(\",\",\"\"))\n",
    "            ratings1.append(rating)\n",
    "        else: ratings1.append(\"-\")\n",
    "        \n",
    "        #CATEGORY NAME:\n",
    "        category = soup.find_all('span', class_=\"a-size-base a-color-base a-text-bold\")[2].text\n",
    "        categs1.append(category)\n",
    "            "
   ]
  },
  {
   "cell_type": "code",
   "execution_count": null,
   "metadata": {},
   "outputs": [],
   "source": [
    "#pd.set_option(\"display.max_rows\", 20000)\n",
    "df1 = pd.DataFrame({\"CATEGORY\":categs1, \"TITLE\":titles1, \"AUTHOR\":authors1, \"DATE\":dates1, \"STAR\":stars1,\"RATING\":ratings1})\n",
    "df1.to_csv(\"page_list1_books.csv\")\n",
    "\n",
    "#Number of unique titles       \n",
    "df1.nunique()"
   ]
  },
  {
   "cell_type": "code",
   "execution_count": 24,
   "metadata": {
    "collapsed": true
   },
   "outputs": [
    {
     "name": "stdout",
     "output_type": "stream",
     "text": [
      "https://www.amazon.com//s?i=stripbooks&bbn=1000&rh=n%3A283155%2Cn%3A1&s=review-count-rank&dc&page=2&Adv-Srch-Books-Submit.x=30&Adv-Srch-Books-Submit.y=21&qid=1602369426&rnid=1000&unfiltered=1&ref=sr_pg_2\n",
      "https://www.amazon.com//s?i=stripbooks&bbn=1000&rh=n%3A283155%2Cn%3A2&s=review-count-rank&dc&page=2&Adv-Srch-Books-Submit.x=30&Adv-Srch-Books-Submit.y=21&qid=1602369449&rnid=1000&unfiltered=1&ref=sr_pg_2\n",
      "https://www.amazon.com//s?i=stripbooks&bbn=1000&rh=n%3A283155%2Cn%3A3&s=review-count-rank&dc&page=2&Adv-Srch-Books-Submit.x=30&Adv-Srch-Books-Submit.y=21&qid=1602369478&rnid=1000&unfiltered=1&ref=sr_pg_2\n",
      "https://www.amazon.com//s?i=stripbooks&bbn=1000&rh=n%3A283155%2Cn%3A3248857011&s=review-count-rank&dc&page=2&Adv-Srch-Books-Submit.x=30&Adv-Srch-Books-Submit.y=21&qid=1602369510&rnid=1000&unfiltered=1&ref=sr_pg_2\n",
      "https://www.amazon.com//s?i=stripbooks&bbn=1000&rh=n%3A283155%2Cn%3A4&s=review-count-rank&dc&page=2&Adv-Srch-Books-Submit.x=30&Adv-Srch-Books-Submit.y=21&qid=1602369548&rnid=1000&unfiltered=1&ref=sr_pg_2\n",
      "https://www.amazon.com//s?i=stripbooks&bbn=1000&rh=n%3A283155%2Cn%3A12290&s=review-count-rank&dc&page=2&Adv-Srch-Books-Submit.x=30&Adv-Srch-Books-Submit.y=21&qid=1602369585&rnid=1000&unfiltered=1&ref=sr_pg_2\n",
      "https://www.amazon.com//s?i=stripbooks&bbn=1000&rh=n%3A283155%2Cn%3A4366&s=review-count-rank&dc&page=2&Adv-Srch-Books-Submit.x=30&Adv-Srch-Books-Submit.y=21&qid=1602369669&rnid=1000&unfiltered=1&ref=sr_pg_2\n",
      "https://www.amazon.com//s?i=stripbooks&bbn=1000&rh=n%3A283155%2Cn%3A5&s=review-count-rank&dc&page=2&Adv-Srch-Books-Submit.x=30&Adv-Srch-Books-Submit.y=21&qid=1602369693&rnid=1000&unfiltered=1&ref=sr_pg_2\n",
      "https://www.amazon.com//s?i=stripbooks&bbn=1000&rh=n%3A283155%2Cn%3A6&s=review-count-rank&dc&page=2&Adv-Srch-Books-Submit.x=30&Adv-Srch-Books-Submit.y=21&qid=1602369721&rnid=1000&unfiltered=1&ref=sr_pg_2\n",
      "https://www.amazon.com//s?i=stripbooks&bbn=1000&rh=n%3A283155%2Cn%3A48&s=review-count-rank&dc&page=2&Adv-Srch-Books-Submit.x=30&Adv-Srch-Books-Submit.y=21&qid=1602369774&rnid=1000&unfiltered=1&ref=sr_pg_2\n",
      "https://www.amazon.com//s?i=stripbooks&bbn=1000&rh=n%3A283155%2Cn%3A8975347011&s=review-count-rank&dc&page=2&Adv-Srch-Books-Submit.x=30&Adv-Srch-Books-Submit.y=21&qid=1602369806&rnid=1000&unfiltered=1&ref=sr_pg_2\n",
      "https://www.amazon.com//s?i=stripbooks&bbn=1000&rh=n%3A283155%2Cn%3A173507&s=review-count-rank&dc&page=2&Adv-Srch-Books-Submit.x=30&Adv-Srch-Books-Submit.y=21&qid=1602369831&rnid=1000&unfiltered=1&ref=sr_pg_2\n",
      "https://www.amazon.com//s?i=stripbooks&bbn=1000&rh=n%3A283155%2Cn%3A10&s=review-count-rank&dc&page=2&Adv-Srch-Books-Submit.x=30&Adv-Srch-Books-Submit.y=21&qid=1602369859&rnid=1000&unfiltered=1&ref=sr_pg_2\n",
      "https://www.amazon.com//s?i=stripbooks&bbn=1000&rh=n%3A283155%2Cn%3A9&s=review-count-rank&dc&page=2&Adv-Srch-Books-Submit.x=30&Adv-Srch-Books-Submit.y=21&qid=1602369968&rnid=1000&unfiltered=1&ref=sr_pg_2\n"
     ]
    },
    {
     "ename": "WebDriverException",
     "evalue": "Message: unknown error: net::ERR_CONNECTION_RESET\n  (Session info: chrome=86.0.4240.75)\n",
     "output_type": "error",
     "traceback": [
      "\u001b[1;31m---------------------------------------------------------------------------\u001b[0m",
      "\u001b[1;31mWebDriverException\u001b[0m                        Traceback (most recent call last)",
      "\u001b[1;32m<ipython-input-24-4050fb45b662>\u001b[0m in \u001b[0;36m<module>\u001b[1;34m\u001b[0m\n\u001b[0;32m     11\u001b[0m \u001b[1;33m\u001b[0m\u001b[0m\n\u001b[0;32m     12\u001b[0m     \u001b[0mdriver\u001b[0m \u001b[1;33m=\u001b[0m \u001b[0mwebdriver\u001b[0m\u001b[1;33m.\u001b[0m\u001b[0mChrome\u001b[0m\u001b[1;33m(\u001b[0m\u001b[1;34m\"C:/Users\\mine/Hamoye Internship/chromedriver_win32/chromedriver.exe\"\u001b[0m\u001b[1;33m)\u001b[0m\u001b[1;33m\u001b[0m\u001b[1;33m\u001b[0m\u001b[0m\n\u001b[1;32m---> 13\u001b[1;33m     \u001b[0mdriver\u001b[0m\u001b[1;33m.\u001b[0m\u001b[0mget\u001b[0m\u001b[1;33m(\u001b[0m\u001b[0murl\u001b[0m\u001b[1;33m)\u001b[0m\u001b[1;33m\u001b[0m\u001b[1;33m\u001b[0m\u001b[0m\n\u001b[0m\u001b[0;32m     14\u001b[0m     \u001b[0msleep\u001b[0m\u001b[1;33m(\u001b[0m\u001b[0mrandint\u001b[0m\u001b[1;33m(\u001b[0m\u001b[1;36m2\u001b[0m\u001b[1;33m,\u001b[0m\u001b[1;36m10\u001b[0m\u001b[1;33m)\u001b[0m\u001b[1;33m)\u001b[0m\u001b[1;33m\u001b[0m\u001b[1;33m\u001b[0m\u001b[0m\n\u001b[0;32m     15\u001b[0m     \u001b[1;32mfrom\u001b[0m \u001b[0mbs4\u001b[0m \u001b[1;32mimport\u001b[0m \u001b[0mBeautifulSoup\u001b[0m\u001b[1;33m\u001b[0m\u001b[1;33m\u001b[0m\u001b[0m\n",
      "\u001b[1;32m~\\anaconda3\\lib\\site-packages\\selenium\\webdriver\\remote\\webdriver.py\u001b[0m in \u001b[0;36mget\u001b[1;34m(self, url)\u001b[0m\n\u001b[0;32m    331\u001b[0m         \u001b[0mLoads\u001b[0m \u001b[0ma\u001b[0m \u001b[0mweb\u001b[0m \u001b[0mpage\u001b[0m \u001b[1;32min\u001b[0m \u001b[0mthe\u001b[0m \u001b[0mcurrent\u001b[0m \u001b[0mbrowser\u001b[0m \u001b[0msession\u001b[0m\u001b[1;33m.\u001b[0m\u001b[1;33m\u001b[0m\u001b[1;33m\u001b[0m\u001b[0m\n\u001b[0;32m    332\u001b[0m         \"\"\"\n\u001b[1;32m--> 333\u001b[1;33m         \u001b[0mself\u001b[0m\u001b[1;33m.\u001b[0m\u001b[0mexecute\u001b[0m\u001b[1;33m(\u001b[0m\u001b[0mCommand\u001b[0m\u001b[1;33m.\u001b[0m\u001b[0mGET\u001b[0m\u001b[1;33m,\u001b[0m \u001b[1;33m{\u001b[0m\u001b[1;34m'url'\u001b[0m\u001b[1;33m:\u001b[0m \u001b[0murl\u001b[0m\u001b[1;33m}\u001b[0m\u001b[1;33m)\u001b[0m\u001b[1;33m\u001b[0m\u001b[1;33m\u001b[0m\u001b[0m\n\u001b[0m\u001b[0;32m    334\u001b[0m \u001b[1;33m\u001b[0m\u001b[0m\n\u001b[0;32m    335\u001b[0m     \u001b[1;33m@\u001b[0m\u001b[0mproperty\u001b[0m\u001b[1;33m\u001b[0m\u001b[1;33m\u001b[0m\u001b[0m\n",
      "\u001b[1;32m~\\anaconda3\\lib\\site-packages\\selenium\\webdriver\\remote\\webdriver.py\u001b[0m in \u001b[0;36mexecute\u001b[1;34m(self, driver_command, params)\u001b[0m\n\u001b[0;32m    319\u001b[0m         \u001b[0mresponse\u001b[0m \u001b[1;33m=\u001b[0m \u001b[0mself\u001b[0m\u001b[1;33m.\u001b[0m\u001b[0mcommand_executor\u001b[0m\u001b[1;33m.\u001b[0m\u001b[0mexecute\u001b[0m\u001b[1;33m(\u001b[0m\u001b[0mdriver_command\u001b[0m\u001b[1;33m,\u001b[0m \u001b[0mparams\u001b[0m\u001b[1;33m)\u001b[0m\u001b[1;33m\u001b[0m\u001b[1;33m\u001b[0m\u001b[0m\n\u001b[0;32m    320\u001b[0m         \u001b[1;32mif\u001b[0m \u001b[0mresponse\u001b[0m\u001b[1;33m:\u001b[0m\u001b[1;33m\u001b[0m\u001b[1;33m\u001b[0m\u001b[0m\n\u001b[1;32m--> 321\u001b[1;33m             \u001b[0mself\u001b[0m\u001b[1;33m.\u001b[0m\u001b[0merror_handler\u001b[0m\u001b[1;33m.\u001b[0m\u001b[0mcheck_response\u001b[0m\u001b[1;33m(\u001b[0m\u001b[0mresponse\u001b[0m\u001b[1;33m)\u001b[0m\u001b[1;33m\u001b[0m\u001b[1;33m\u001b[0m\u001b[0m\n\u001b[0m\u001b[0;32m    322\u001b[0m             response['value'] = self._unwrap_value(\n\u001b[0;32m    323\u001b[0m                 response.get('value', None))\n",
      "\u001b[1;32m~\\anaconda3\\lib\\site-packages\\selenium\\webdriver\\remote\\errorhandler.py\u001b[0m in \u001b[0;36mcheck_response\u001b[1;34m(self, response)\u001b[0m\n\u001b[0;32m    240\u001b[0m                 \u001b[0malert_text\u001b[0m \u001b[1;33m=\u001b[0m \u001b[0mvalue\u001b[0m\u001b[1;33m[\u001b[0m\u001b[1;34m'alert'\u001b[0m\u001b[1;33m]\u001b[0m\u001b[1;33m.\u001b[0m\u001b[0mget\u001b[0m\u001b[1;33m(\u001b[0m\u001b[1;34m'text'\u001b[0m\u001b[1;33m)\u001b[0m\u001b[1;33m\u001b[0m\u001b[1;33m\u001b[0m\u001b[0m\n\u001b[0;32m    241\u001b[0m             \u001b[1;32mraise\u001b[0m \u001b[0mexception_class\u001b[0m\u001b[1;33m(\u001b[0m\u001b[0mmessage\u001b[0m\u001b[1;33m,\u001b[0m \u001b[0mscreen\u001b[0m\u001b[1;33m,\u001b[0m \u001b[0mstacktrace\u001b[0m\u001b[1;33m,\u001b[0m \u001b[0malert_text\u001b[0m\u001b[1;33m)\u001b[0m\u001b[1;33m\u001b[0m\u001b[1;33m\u001b[0m\u001b[0m\n\u001b[1;32m--> 242\u001b[1;33m         \u001b[1;32mraise\u001b[0m \u001b[0mexception_class\u001b[0m\u001b[1;33m(\u001b[0m\u001b[0mmessage\u001b[0m\u001b[1;33m,\u001b[0m \u001b[0mscreen\u001b[0m\u001b[1;33m,\u001b[0m \u001b[0mstacktrace\u001b[0m\u001b[1;33m)\u001b[0m\u001b[1;33m\u001b[0m\u001b[1;33m\u001b[0m\u001b[0m\n\u001b[0m\u001b[0;32m    243\u001b[0m \u001b[1;33m\u001b[0m\u001b[0m\n\u001b[0;32m    244\u001b[0m     \u001b[1;32mdef\u001b[0m \u001b[0m_value_or_default\u001b[0m\u001b[1;33m(\u001b[0m\u001b[0mself\u001b[0m\u001b[1;33m,\u001b[0m \u001b[0mobj\u001b[0m\u001b[1;33m,\u001b[0m \u001b[0mkey\u001b[0m\u001b[1;33m,\u001b[0m \u001b[0mdefault\u001b[0m\u001b[1;33m)\u001b[0m\u001b[1;33m:\u001b[0m\u001b[1;33m\u001b[0m\u001b[1;33m\u001b[0m\u001b[0m\n",
      "\u001b[1;31mWebDriverException\u001b[0m: Message: unknown error: net::ERR_CONNECTION_RESET\n  (Session info: chrome=86.0.4240.75)\n"
     ]
    }
   ],
   "source": [
    "titles2 = []\n",
    "authors2 = []\n",
    "dates2 = []\n",
    "stars2 = []\n",
    "ratings2 = []\n",
    "prices2 = []\n",
    "categs2 = []\n",
    "\n",
    "#for category in categories:\n",
    "for url in flat_list2: \n",
    "    \n",
    "    driver = webdriver.Chrome(\"C:/Users\\mine/Hamoye Internship/chromedriver_win32/chromedriver.exe\")\n",
    "    driver.get(url)  \n",
    "    sleep(randint(2,10))\n",
    "    from bs4 import BeautifulSoup\n",
    "    soup = BeautifulSoup(driver.page_source, 'html.parser')\n",
    "    containers = soup.find_all(\"div\", class_ = \"sg-col-20-of-24 s-result-item s-asin sg-col-0-of-12 sg-col-28-of-32 sg-col-16-of-20 sg-col sg-col-32-of-36 sg-col-12-of-16 sg-col-24-of-28\")\n",
    "    \n",
    "    \n",
    "    for container in containers:\n",
    "       #TITLES:\n",
    "        try:\n",
    "            if container.find(\"span\", class_=\"a-size-medium a-color-base a-text-normal\") is not None:\n",
    "                title = container.find(\"span\", class_=\"a-size-medium a-color-base a-text-normal\").text\n",
    "                titles2.append(title)\n",
    "            else:  titles2.append(\"-\")\n",
    "        except IndexError:\n",
    "                titles2.append(\"---\")\n",
    "\n",
    "        #AUTHORS:\n",
    "        try:\n",
    "            if container.find(\"div\", class_=\"a-row a-size-base a-color-secondary\").find(\"a\", \"a-size-base a-link-normal\") is not None:\n",
    "                author = container.find(\"div\", class_=\"a-row a-size-base a-color-secondary\").find(\"a\", \"a-size-base a-link-normal\").text.strip()\n",
    "                authors2.append(author)\n",
    "            elif container.find(\"div\", class_=\"a-row a-size-base a-color-secondary\").find(\"a\", \"a-size-base a-link-normal\") is None:\n",
    "                authors2.append(container.find(\"div\", class_=\"a-row a-size-base a-color-secondary\").find_all(\"span\", class_=\"a-size-base\")[1].text)\n",
    "            elif container.find(\"div\", class_=\"a-row a-size-base a-color-secondary\").find(\"a\", \"a-size-base a-link-normal\") is None:\n",
    "                authors2.append(container.find(\"div\", class_=\"a-row a-size-base a-color-secondary\").find_all(\"span\", class_=\"a-size-base\")[2].text)\n",
    "            elif container.find(\"div\", class_=\"a-row a-size-base a-color-secondary\").find(\"a\", \"a-size-base a-link-normal\") is None:\n",
    "                authors2.append(container.find(\"div\", class_=\"a-row a-size-base a-color-secondary\").find_all(\"span\", class_=\"a-size-base\")[3].text)\n",
    "            else: authors2.append(\"-\")\n",
    "        except IndexError:\n",
    "            authors2.append(\"---\")\n",
    "\n",
    "        #DATES:\n",
    "        try:\n",
    "            if container.find(\"span\", \"a-size-base a-color-secondary a-text-normal\") is not None:\n",
    "                date = container.find(\"span\", \"a-size-base a-color-secondary a-text-normal\").text\n",
    "                dates2.append(date)\n",
    "            else: dates2.append(\"-\")\n",
    "        except IndexError:\n",
    "            dates2.append(\"---\")\n",
    "\n",
    "        #STAR REVIEW:\n",
    "        try:\n",
    "            if container.find(\"i\", \"a-icon a-icon-star-small a-star-small-5 aok-align-bottom\") is not None:\n",
    "                star = container.find(\"i\", \"a-icon a-icon-star-small a-star-small-5 aok-align-bottom\").text\n",
    "                stars2.append(star)\n",
    "            elif container.find(\"i\", \"a-icon a-icon-star-small a-star-small-4-5 aok-align-bottom\") is not None:\n",
    "                star = container.find(\"i\", \"a-icon a-icon-star-small a-star-small-4-5 aok-align-bottom\").text\n",
    "                stars2.append(star)\n",
    "            else: stars2.append(\"-\")\n",
    "        except IndexError:\n",
    "            stars2.append(\"---\")\n",
    "\n",
    "        #NUMBER OF STAR REVIEWS:\n",
    "        try:\n",
    "            if container.find(\"div\", class_=\"a-row a-size-small\") is not None:\n",
    "                rating = int(container.find(\"div\", class_=\"a-row a-size-small\").find(\"span\", class_=\"a-size-base\").text.replace(\",\",\"\"))\n",
    "                ratings2.append(rating)\n",
    "            else: ratings2.append(\"-\")\n",
    "        except IndexError:\n",
    "            ratings2.append(\"---\")\n",
    "        \n",
    "        #CATEGORY NAME:\n",
    "        category = soup.find_all('span', class_=\"a-size-base a-color-base a-text-bold\")[2].text\n",
    "        categs2.append(category)\n",
    "            "
   ]
  },
  {
   "cell_type": "code",
   "execution_count": null,
   "metadata": {},
   "outputs": [],
   "source": [
    "#pd.set_option(\"display.max_rows\", 20000)\n",
    "df2 = pd.DataFrame({\"CATEGORY\":categs2, \"TITLE\":titles2, \"AUTHOR\":authors2, \"DATE\":dates2, \"STAR\":stars2,\"RATING\":ratings2})\n",
    "df2.to_csv(\"page_list2_books.csv\")\n",
    "\n",
    "#Number of unique titles       \n",
    "df2.nunique()"
   ]
  },
  {
   "cell_type": "code",
   "execution_count": 7,
   "metadata": {
    "collapsed": true
   },
   "outputs": [
    {
     "name": "stdout",
     "output_type": "stream",
     "text": [
      "https://www.amazon.com//s?i=stripbooks&bbn=1000&rh=n%3A283155%2Cn%3A1&s=review-count-rank&dc&page=3&Adv-Srch-Books-Submit.x=30&Adv-Srch-Books-Submit.y=21&qid=1602369426&rnid=1000&unfiltered=1&ref=sr_pg_3\n",
      "https://www.amazon.com//s?i=stripbooks&bbn=1000&rh=n%3A283155%2Cn%3A2&s=review-count-rank&dc&page=3&Adv-Srch-Books-Submit.x=30&Adv-Srch-Books-Submit.y=21&qid=1602369449&rnid=1000&unfiltered=1&ref=sr_pg_3\n",
      "https://www.amazon.com//s?i=stripbooks&bbn=1000&rh=n%3A283155%2Cn%3A3&s=review-count-rank&dc&page=3&Adv-Srch-Books-Submit.x=30&Adv-Srch-Books-Submit.y=21&qid=1602369478&rnid=1000&unfiltered=1&ref=sr_pg_3\n",
      "https://www.amazon.com//s?i=stripbooks&bbn=1000&rh=n%3A283155%2Cn%3A3248857011&s=review-count-rank&dc&page=3&Adv-Srch-Books-Submit.x=30&Adv-Srch-Books-Submit.y=21&qid=1602369510&rnid=1000&unfiltered=1&ref=sr_pg_3\n",
      "https://www.amazon.com//s?i=stripbooks&bbn=1000&rh=n%3A283155%2Cn%3A4&s=review-count-rank&dc&page=3&Adv-Srch-Books-Submit.x=30&Adv-Srch-Books-Submit.y=21&qid=1602369548&rnid=1000&unfiltered=1&ref=sr_pg_3\n",
      "https://www.amazon.com//s?i=stripbooks&bbn=1000&rh=n%3A283155%2Cn%3A12290&s=review-count-rank&dc&page=3&Adv-Srch-Books-Submit.x=30&Adv-Srch-Books-Submit.y=21&qid=1602369585&rnid=1000&unfiltered=1&ref=sr_pg_3\n",
      "https://www.amazon.com//s?i=stripbooks&bbn=1000&rh=n%3A283155%2Cn%3A4366&s=review-count-rank&dc&page=3&Adv-Srch-Books-Submit.x=30&Adv-Srch-Books-Submit.y=21&qid=1602369669&rnid=1000&unfiltered=1&ref=sr_pg_3\n",
      "https://www.amazon.com//s?i=stripbooks&bbn=1000&rh=n%3A283155%2Cn%3A5&s=review-count-rank&dc&page=3&Adv-Srch-Books-Submit.x=30&Adv-Srch-Books-Submit.y=21&qid=1602369693&rnid=1000&unfiltered=1&ref=sr_pg_3\n",
      "https://www.amazon.com//s?i=stripbooks&bbn=1000&rh=n%3A283155%2Cn%3A6&s=review-count-rank&dc&page=3&Adv-Srch-Books-Submit.x=30&Adv-Srch-Books-Submit.y=21&qid=1602369721&rnid=1000&unfiltered=1&ref=sr_pg_3\n",
      "https://www.amazon.com//s?i=stripbooks&bbn=1000&rh=n%3A283155%2Cn%3A48&s=review-count-rank&dc&page=3&Adv-Srch-Books-Submit.x=30&Adv-Srch-Books-Submit.y=21&qid=1602369774&rnid=1000&unfiltered=1&ref=sr_pg_3\n",
      "https://www.amazon.com//s?i=stripbooks&bbn=1000&rh=n%3A283155%2Cn%3A8975347011&s=review-count-rank&dc&page=3&Adv-Srch-Books-Submit.x=30&Adv-Srch-Books-Submit.y=21&qid=1602369806&rnid=1000&unfiltered=1&ref=sr_pg_3\n",
      "https://www.amazon.com//s?i=stripbooks&bbn=1000&rh=n%3A283155%2Cn%3A173507&s=review-count-rank&dc&page=3&Adv-Srch-Books-Submit.x=30&Adv-Srch-Books-Submit.y=21&qid=1602369831&rnid=1000&unfiltered=1&ref=sr_pg_3\n",
      "https://www.amazon.com//s?i=stripbooks&bbn=1000&rh=n%3A283155%2Cn%3A10&s=review-count-rank&dc&page=3&Adv-Srch-Books-Submit.x=30&Adv-Srch-Books-Submit.y=21&qid=1602369859&rnid=1000&unfiltered=1&ref=sr_pg_3\n",
      "https://www.amazon.com//s?i=stripbooks&bbn=1000&rh=n%3A283155%2Cn%3A9&s=review-count-rank&dc&page=3&Adv-Srch-Books-Submit.x=30&Adv-Srch-Books-Submit.y=21&qid=1602369968&rnid=1000&unfiltered=1&ref=sr_pg_3\n",
      "https://www.amazon.com//s?i=stripbooks&bbn=1000&rh=n%3A283155%2Cn%3A86&s=review-count-rank&dc&page=3&Adv-Srch-Books-Submit.x=30&Adv-Srch-Books-Submit.y=21&qid=1602370014&rnid=1000&unfiltered=1&ref=sr_pg_3\n",
      "https://www.amazon.com//s?i=stripbooks&bbn=1000&rh=n%3A283155%2Cn%3A10777&s=review-count-rank&dc&page=3&Adv-Srch-Books-Submit.x=30&Adv-Srch-Books-Submit.y=21&qid=1602370043&rnid=1000&unfiltered=1&ref=sr_pg_3\n",
      "https://www.amazon.com//s?i=stripbooks&bbn=1000&rh=n%3A283155%2Cn%3A301889&s=review-count-rank&dc&page=3&Adv-Srch-Books-Submit.x=30&Adv-Srch-Books-Submit.y=21&qid=1602370083&rnid=1000&unfiltered=1&ref=sr_pg_3\n",
      "https://www.amazon.com//s?i=stripbooks&bbn=1000&rh=n%3A283155%2Cn%3A17&s=review-count-rank&dc&page=3&Adv-Srch-Books-Submit.x=30&Adv-Srch-Books-Submit.y=21&qid=1602370174&rnid=1000&unfiltered=1&ref=sr_pg_3\n",
      "https://www.amazon.com//s?i=stripbooks&bbn=1000&rh=n%3A283155%2Cn%3A173514&s=review-count-rank&dc&page=3&Adv-Srch-Books-Submit.x=30&Adv-Srch-Books-Submit.y=21&qid=1602370224&rnid=1000&unfiltered=1&ref=sr_pg_3\n",
      "https://www.amazon.com//s?i=stripbooks&bbn=1000&rh=n%3A283155%2Cn%3A18&s=review-count-rank&dc&page=3&Adv-Srch-Books-Submit.x=30&Adv-Srch-Books-Submit.y=21&qid=1602370307&rnid=1000&unfiltered=1&ref=sr_pg_3\n",
      "https://www.amazon.com//s?i=stripbooks&bbn=1000&rh=n%3A283155%2Cn%3A20&s=review-count-rank&dc&page=3&Adv-Srch-Books-Submit.x=30&Adv-Srch-Books-Submit.y=21&qid=1602370329&rnid=1000&unfiltered=1&ref=sr_pg_3\n",
      "https://www.amazon.com//s?i=stripbooks&bbn=1000&rh=n%3A283155%2Cn%3A3377866011&s=review-count-rank&dc&page=3&Adv-Srch-Books-Submit.x=30&Adv-Srch-Books-Submit.y=21&qid=1602370369&rnid=1000&unfiltered=1&ref=sr_pg_3\n",
      "https://www.amazon.com//s?i=stripbooks&bbn=1000&rh=n%3A283155%2Cn%3A21&s=review-count-rank&dc&page=3&Adv-Srch-Books-Submit.x=30&Adv-Srch-Books-Submit.y=21&qid=1602370392&rnid=1000&unfiltered=1&ref=sr_pg_3\n",
      "https://www.amazon.com//s?i=stripbooks&bbn=1000&rh=n%3A283155%2Cn%3A22&s=review-count-rank&dc&page=3&Adv-Srch-Books-Submit.x=30&Adv-Srch-Books-Submit.y=21&qid=1602370419&rnid=1000&unfiltered=1&ref=sr_pg_3\n",
      "https://www.amazon.com//s?i=stripbooks&bbn=1000&rh=n%3A283155%2Cn%3A23&s=review-count-rank&dc&page=3&Adv-Srch-Books-Submit.x=30&Adv-Srch-Books-Submit.y=21&qid=1602370461&rnid=1000&unfiltered=1&ref=sr_pg_3\n",
      "https://www.amazon.com//s?i=stripbooks&bbn=1000&rh=n%3A283155%2Cn%3A75&s=review-count-rank&dc&page=3&Adv-Srch-Books-Submit.x=30&Adv-Srch-Books-Submit.y=21&qid=1602370490&rnid=1000&unfiltered=1&ref=sr_pg_3\n",
      "https://www.amazon.com//s?i=stripbooks&bbn=1000&rh=n%3A283155%2Cn%3A25&s=review-count-rank&dc&page=3&Adv-Srch-Books-Submit.x=30&Adv-Srch-Books-Submit.y=21&qid=1602370527&rnid=1000&unfiltered=1&ref=sr_pg_3\n",
      "https://www.amazon.com//s?i=stripbooks&bbn=1000&rh=n%3A283155%2Cn%3A4736&s=review-count-rank&dc&page=3&Adv-Srch-Books-Submit.x=30&Adv-Srch-Books-Submit.y=21&qid=1602370556&rnid=1000&unfiltered=1&ref=sr_pg_3\n",
      "https://www.amazon.com//s?i=stripbooks&bbn=1000&rh=n%3A283155%2Cn%3A26&s=review-count-rank&dc&page=3&Adv-Srch-Books-Submit.x=30&Adv-Srch-Books-Submit.y=21&qid=1602370632&rnid=1000&unfiltered=1&ref=sr_pg_3\n",
      "https://www.amazon.com//s?i=stripbooks&bbn=1000&rh=n%3A283155%2Cn%3A28&s=review-count-rank&dc&page=3&Adv-Srch-Books-Submit.x=30&Adv-Srch-Books-Submit.y=21&qid=1602370659&rnid=1000&unfiltered=1&ref=sr_pg_3\n",
      "https://www.amazon.com//s?i=stripbooks&bbn=1000&rh=n%3A283155%2Cn%3A5267710011&s=review-count-rank&dc&page=3&Adv-Srch-Books-Submit.x=30&Adv-Srch-Books-Submit.y=21&qid=1602370689&rnid=1000&unfiltered=1&ref=sr_pg_3\n",
      "https://www.amazon.com//s?i=stripbooks&bbn=1000&rh=n%3A283155%2Cn%3A27&s=review-count-rank&dc&page=3&Adv-Srch-Books-Submit.x=30&Adv-Srch-Books-Submit.y=21&qid=1602370728&rnid=1000&unfiltered=1&ref=sr_pg_3\n"
     ]
    }
   ],
   "source": [
    "titles3 = []\n",
    "authors3 = []\n",
    "dates3 = []\n",
    "stars3 = []\n",
    "ratings3 = []\n",
    "prices3 = []\n",
    "categs3 = []\n",
    "\n",
    "#for category in categories:\n",
    "for url in flat_list3: \n",
    "    \n",
    "    driver = webdriver.Chrome(\"C:/Users\\mine/Hamoye Internship/chromedriver_win32/chromedriver.exe\")\n",
    "    driver.get(url)  \n",
    "    sleep(randint(2,10))\n",
    "    from bs4 import BeautifulSoup\n",
    "    soup = BeautifulSoup(driver.page_source, 'html.parser')\n",
    "    containers = soup.find_all(\"div\", class_ = \"sg-col-20-of-24 s-result-item s-asin sg-col-0-of-12 sg-col-28-of-32 sg-col-16-of-20 sg-col sg-col-32-of-36 sg-col-12-of-16 sg-col-24-of-28\")\n",
    "   \n",
    "\n",
    "    for container in containers:\n",
    "       #TITLES:\n",
    "        try:\n",
    "            if container.find(\"span\", class_=\"a-size-medium a-color-base a-text-normal\") is not None:\n",
    "                title = container.find(\"span\", class_=\"a-size-medium a-color-base a-text-normal\").text\n",
    "                titles3.append(title)\n",
    "            else:  titles3.append(\"-\")\n",
    "        except IndexError:\n",
    "            titles3.append(\"---\")\n",
    "\n",
    "        #AUTHORS: \n",
    "        try:\n",
    "            if container.find(\"div\", class_=\"a-row a-size-base a-color-secondary\").find(\"a\", \"a-size-base a-link-normal\") is not None:\n",
    "                author = container.find(\"div\", class_=\"a-row a-size-base a-color-secondary\").find(\"a\", \"a-size-base a-link-normal\").text.strip()\n",
    "                authors3.append(author)\n",
    "            elif container.find(\"div\", class_=\"a-row a-size-base a-color-secondary\").find(\"a\", \"a-size-base a-link-normal\") is None:\n",
    "                authors3.append(container.find(\"div\", class_=\"a-row a-size-base a-color-secondary\").find_all(\"span\", class_=\"a-size-base\")[1].text)\n",
    "            elif container.find(\"div\", class_=\"a-row a-size-base a-color-secondary\").find(\"a\", \"a-size-base a-link-normal\") is None:\n",
    "                authors3.append(container.find(\"div\", class_=\"a-row a-size-base a-color-secondary\").find_all(\"span\", class_=\"a-size-base\")[2].text)\n",
    "            elif container.find(\"div\", class_=\"a-row a-size-base a-color-secondary\").find(\"a\", \"a-size-base a-link-normal\") is None:\n",
    "                authors3.append(container.find(\"div\", class_=\"a-row a-size-base a-color-secondary\").find_all(\"span\", class_=\"a-size-base\")[3].text)\n",
    "            else: authors3.append(\"-\")\n",
    "        except IndexError:\n",
    "            authors3.append(\"---\")\n",
    "\n",
    "        #DATES: \n",
    "        try:\n",
    "            if container.find(\"span\", \"a-size-base a-color-secondary a-text-normal\") is not None:\n",
    "                date = container.find(\"span\", \"a-size-base a-color-secondary a-text-normal\").text\n",
    "                dates3.append(date)\n",
    "            else: dates3.append(\"-\")\n",
    "        except IndexError:\n",
    "            dates3.append(\"---\")\n",
    "\n",
    "        #STAR REVIEW:\n",
    "        try:\n",
    "            if container.find(\"i\", \"a-icon a-icon-star-small a-star-small-5 aok-align-bottom\") is not None:\n",
    "                star = container.find(\"i\", \"a-icon a-icon-star-small a-star-small-5 aok-align-bottom\").text\n",
    "                stars3.append(star)\n",
    "            elif container.find(\"i\", \"a-icon a-icon-star-small a-star-small-4-5 aok-align-bottom\") is not None:\n",
    "                star = container.find(\"i\", \"a-icon a-icon-star-small a-star-small-4-5 aok-align-bottom\").text\n",
    "                stars3.append(star)\n",
    "            else: stars3.append(\"-\")\n",
    "        except IndexError:\n",
    "            stars3.append(\"---\")\n",
    "\n",
    "        #NUMBER OF STAR REVIEWS:\n",
    "        try:\n",
    "            if container.find(\"div\", class_=\"a-row a-size-small\") is not None:\n",
    "                rating = int(container.find(\"div\", class_=\"a-row a-size-small\").find(\"span\", class_=\"a-size-base\").text.replace(\",\",\"\"))\n",
    "                ratings3.append(rating)\n",
    "            else: ratings3.append(\"-\")\n",
    "        except IndexError:\n",
    "            ratings3.append(\"---\")\n",
    "        \n",
    "        #CATEGORY NAME:\n",
    "        category = soup.find_all('span', class_=\"a-size-base a-color-base a-text-bold\")[2].text\n",
    "        categs3.append(category)\n",
    "        "
   ]
  },
  {
   "cell_type": "code",
   "execution_count": 15,
   "metadata": {},
   "outputs": [],
   "source": [
    "#pd.set_option(\"display.max_rows\", 20000)\n",
    "df3 = pd.DataFrame({\"CATEGORY\":categs3, \"TITLE\":titles3, \"AUTHOR\":authors3, \"DATE\":dates3, \"STAR\":stars3,\"RATING\":ratings3})\n",
    "df3.to_csv(\"page_list3_books.csv\")\n",
    "\n",
    "#Number of unique titles       \n",
    "df3.nunique()"
   ]
  },
  {
   "cell_type": "code",
   "execution_count": null,
   "metadata": {},
   "outputs": [],
   "source": []
  },
  {
   "cell_type": "markdown",
   "metadata": {},
   "source": [
    "Having scraped enough data to support the validity of the project, kindly see [DATA_PREPROCESSING.ipynb](./DATA_PREPROCESSING.ipynb) file for all relevant data cleaning operations executed in order to curate the scraped data."
   ]
  }
 ],
 "metadata": {
  "kernelspec": {
   "display_name": "Python 3",
   "language": "python",
   "name": "python3"
  },
  "language_info": {
   "codemirror_mode": {
    "name": "ipython",
    "version": 3
   },
   "file_extension": ".py",
   "mimetype": "text/x-python",
   "name": "python",
   "nbconvert_exporter": "python",
   "pygments_lexer": "ipython3",
   "version": "3.7.6"
  }
 },
 "nbformat": 4,
 "nbformat_minor": 4
}
